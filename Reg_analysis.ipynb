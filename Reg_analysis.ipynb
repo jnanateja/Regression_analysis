{
  "cells": [
    {
      "cell_type": "markdown",
      "metadata": {
        "id": "rsZebVxWdBP7"
      },
      "source": [
        "Congratulations! You've been hired as a data scientist at the hottest new social media startup.\n",
        "\n",
        "Your company produces an app via which users can post short videos for anyone to view. They can also like, repost, and comment on the videos they view. The key data product is a recommendation engine that determines the order in which videos are shown to a user.\n",
        "\n",
        "The recommendation engine has a parameter, *theta*, that affects the ordering of the videos. Recently the team of engineers that works on the recommendation engine ran it with different settings of *theta* and, for each setting, measured the amount of time users spent on the app. They have collected these measurements into a data set of 20 samples of (*theta*, *time_spent*) pairs.\n",
        "\n",
        "Additionally, they have identified two auxiliary features (*aux1* and *aux2*) that they hypoithesize should correlate with *time_spent*. These two features are measures of time spent by users in the recent past. The engineers have not verified that the features explain *time_spent*.\n",
        "\n",
        "(The engineers call these two features \"auxiliary\" because, while they might help explain *time_spent*, the engineers' ultimate interest lies in the dependence of *time_spent* on *theta*.)\n",
        "\n",
        "Your first project at your new company is to tell the engineers which setting you think they should use for *theta*, based on the data."
      ]
    },
    {
      "cell_type": "markdown",
      "metadata": {
        "id": "3BYxJdC4dBP-"
      },
      "source": [
        "## 1. Prepare the data\n",
        "- Inspect the data. Identifiy and remove any suspicious or unusable samples.\n",
        "- Put the samples in a data structure that you can work with."
      ]
    },
    {
      "cell_type": "code",
      "source": [
        "import pandas as pd\n",
        "import numpy as np\n",
        "from sklearn.linear_model import LinearRegression\n",
        "import scipy.stats\n",
        "import matplotlib.pyplot as plt"
      ],
      "metadata": {
        "id": "9XjYjV9Fd6pr"
      },
      "execution_count": null,
      "outputs": []
    },
    {
      "cell_type": "code",
      "execution_count": null,
      "metadata": {
        "id": "8I3FMxQMdBQA"
      },
      "outputs": [],
      "source": [
        "theta = [0.03906292, 0.05119367, 0.06004468, 0.06790036, 0.19152079,\n",
        "       0.28298816, 0.294665  , 0.3578136 , 0.48352862, 0.53058676,\n",
        "       0.55175137, 0.57560289, 0.59751325, 0.6375209 , 0.65241862,\n",
        "       0.65633352, 0.78698546, 0.8640421 , 0.87729053, 0.94568319]\n",
        "aux1 = [ 0.53983961, -1.77528229,  1.31487654, -0.47344805, -1.0922299 ,\n",
        "       -0.25002744, -0.9822943 ,  1.03126909,  0.49133378, -0.4466466 ,\n",
        "       -0.80636008,  0.13126776, -1.21256024,  0.15999085, -0.75522304,\n",
        "        0.34989599,  0.97754176, -0.13858525,  0.10385631,  0.30059104]\n",
        "aux2 = [ 0.9682053 ,  0.86962384,  0.56778309,  0.46528234, -1.16537308,\n",
        "       -2.03599479, -1.15541329,  3.34515739,  0.12672721, -0.6941789 ,\n",
        "        0.55767443,  0.0991466 ,  0.63792617,  0.70311068, -0.91609315,\n",
        "       -0.78601423,  1.1191818 , -0.98339611,  0.24452002, -0.58140974]\n",
        "time_spent = [10.79768391, 10.87648065, 10.29274937, 10.78756647,  9.51844772,\n",
        "        9.18078781,  9.90063639, 12.84823357, 10.92743478,  9.88927608,\n",
        "       11.3373709 , 11.43996915, 11.88392171, -11.88135476, 11.73452467,\n",
        "       11.18844425, 12.19144316, 11.35294826, 12.2385441 , 11.98428985]"
      ]
    },
    {
      "cell_type": "code",
      "source": [
        "data = {'theta': theta, 'aux1': aux1, 'aux2': aux2, 'time_spent': time_spent}\n",
        "df = pd.DataFrame(data)\n",
        "df.head()"
      ],
      "metadata": {
        "colab": {
          "base_uri": "https://localhost:8080/",
          "height": 206
        },
        "id": "2WqYveCMdflm",
        "outputId": "e1760cdf-d021-4396-b8a8-2a1493a9c98f"
      },
      "execution_count": null,
      "outputs": [
        {
          "output_type": "execute_result",
          "data": {
            "text/plain": [
              "      theta      aux1      aux2  time_spent\n",
              "0  0.039063  0.539840  0.968205   10.797684\n",
              "1  0.051194 -1.775282  0.869624   10.876481\n",
              "2  0.060045  1.314877  0.567783   10.292749\n",
              "3  0.067900 -0.473448  0.465282   10.787566\n",
              "4  0.191521 -1.092230 -1.165373    9.518448"
            ],
            "text/html": [
              "\n",
              "  <div id=\"df-cda6ecbc-c1d8-415b-852d-9a24a773d7b1\">\n",
              "    <div class=\"colab-df-container\">\n",
              "      <div>\n",
              "<style scoped>\n",
              "    .dataframe tbody tr th:only-of-type {\n",
              "        vertical-align: middle;\n",
              "    }\n",
              "\n",
              "    .dataframe tbody tr th {\n",
              "        vertical-align: top;\n",
              "    }\n",
              "\n",
              "    .dataframe thead th {\n",
              "        text-align: right;\n",
              "    }\n",
              "</style>\n",
              "<table border=\"1\" class=\"dataframe\">\n",
              "  <thead>\n",
              "    <tr style=\"text-align: right;\">\n",
              "      <th></th>\n",
              "      <th>theta</th>\n",
              "      <th>aux1</th>\n",
              "      <th>aux2</th>\n",
              "      <th>time_spent</th>\n",
              "    </tr>\n",
              "  </thead>\n",
              "  <tbody>\n",
              "    <tr>\n",
              "      <th>0</th>\n",
              "      <td>0.039063</td>\n",
              "      <td>0.539840</td>\n",
              "      <td>0.968205</td>\n",
              "      <td>10.797684</td>\n",
              "    </tr>\n",
              "    <tr>\n",
              "      <th>1</th>\n",
              "      <td>0.051194</td>\n",
              "      <td>-1.775282</td>\n",
              "      <td>0.869624</td>\n",
              "      <td>10.876481</td>\n",
              "    </tr>\n",
              "    <tr>\n",
              "      <th>2</th>\n",
              "      <td>0.060045</td>\n",
              "      <td>1.314877</td>\n",
              "      <td>0.567783</td>\n",
              "      <td>10.292749</td>\n",
              "    </tr>\n",
              "    <tr>\n",
              "      <th>3</th>\n",
              "      <td>0.067900</td>\n",
              "      <td>-0.473448</td>\n",
              "      <td>0.465282</td>\n",
              "      <td>10.787566</td>\n",
              "    </tr>\n",
              "    <tr>\n",
              "      <th>4</th>\n",
              "      <td>0.191521</td>\n",
              "      <td>-1.092230</td>\n",
              "      <td>-1.165373</td>\n",
              "      <td>9.518448</td>\n",
              "    </tr>\n",
              "  </tbody>\n",
              "</table>\n",
              "</div>\n",
              "      <button class=\"colab-df-convert\" onclick=\"convertToInteractive('df-cda6ecbc-c1d8-415b-852d-9a24a773d7b1')\"\n",
              "              title=\"Convert this dataframe to an interactive table.\"\n",
              "              style=\"display:none;\">\n",
              "        \n",
              "  <svg xmlns=\"http://www.w3.org/2000/svg\" height=\"24px\"viewBox=\"0 0 24 24\"\n",
              "       width=\"24px\">\n",
              "    <path d=\"M0 0h24v24H0V0z\" fill=\"none\"/>\n",
              "    <path d=\"M18.56 5.44l.94 2.06.94-2.06 2.06-.94-2.06-.94-.94-2.06-.94 2.06-2.06.94zm-11 1L8.5 8.5l.94-2.06 2.06-.94-2.06-.94L8.5 2.5l-.94 2.06-2.06.94zm10 10l.94 2.06.94-2.06 2.06-.94-2.06-.94-.94-2.06-.94 2.06-2.06.94z\"/><path d=\"M17.41 7.96l-1.37-1.37c-.4-.4-.92-.59-1.43-.59-.52 0-1.04.2-1.43.59L10.3 9.45l-7.72 7.72c-.78.78-.78 2.05 0 2.83L4 21.41c.39.39.9.59 1.41.59.51 0 1.02-.2 1.41-.59l7.78-7.78 2.81-2.81c.8-.78.8-2.07 0-2.86zM5.41 20L4 18.59l7.72-7.72 1.47 1.35L5.41 20z\"/>\n",
              "  </svg>\n",
              "      </button>\n",
              "      \n",
              "  <style>\n",
              "    .colab-df-container {\n",
              "      display:flex;\n",
              "      flex-wrap:wrap;\n",
              "      gap: 12px;\n",
              "    }\n",
              "\n",
              "    .colab-df-convert {\n",
              "      background-color: #E8F0FE;\n",
              "      border: none;\n",
              "      border-radius: 50%;\n",
              "      cursor: pointer;\n",
              "      display: none;\n",
              "      fill: #1967D2;\n",
              "      height: 32px;\n",
              "      padding: 0 0 0 0;\n",
              "      width: 32px;\n",
              "    }\n",
              "\n",
              "    .colab-df-convert:hover {\n",
              "      background-color: #E2EBFA;\n",
              "      box-shadow: 0px 1px 2px rgba(60, 64, 67, 0.3), 0px 1px 3px 1px rgba(60, 64, 67, 0.15);\n",
              "      fill: #174EA6;\n",
              "    }\n",
              "\n",
              "    [theme=dark] .colab-df-convert {\n",
              "      background-color: #3B4455;\n",
              "      fill: #D2E3FC;\n",
              "    }\n",
              "\n",
              "    [theme=dark] .colab-df-convert:hover {\n",
              "      background-color: #434B5C;\n",
              "      box-shadow: 0px 1px 3px 1px rgba(0, 0, 0, 0.15);\n",
              "      filter: drop-shadow(0px 1px 2px rgba(0, 0, 0, 0.3));\n",
              "      fill: #FFFFFF;\n",
              "    }\n",
              "  </style>\n",
              "\n",
              "      <script>\n",
              "        const buttonEl =\n",
              "          document.querySelector('#df-cda6ecbc-c1d8-415b-852d-9a24a773d7b1 button.colab-df-convert');\n",
              "        buttonEl.style.display =\n",
              "          google.colab.kernel.accessAllowed ? 'block' : 'none';\n",
              "\n",
              "        async function convertToInteractive(key) {\n",
              "          const element = document.querySelector('#df-cda6ecbc-c1d8-415b-852d-9a24a773d7b1');\n",
              "          const dataTable =\n",
              "            await google.colab.kernel.invokeFunction('convertToInteractive',\n",
              "                                                     [key], {});\n",
              "          if (!dataTable) return;\n",
              "\n",
              "          const docLinkHtml = 'Like what you see? Visit the ' +\n",
              "            '<a target=\"_blank\" href=https://colab.research.google.com/notebooks/data_table.ipynb>data table notebook</a>'\n",
              "            + ' to learn more about interactive tables.';\n",
              "          element.innerHTML = '';\n",
              "          dataTable['output_type'] = 'display_data';\n",
              "          await google.colab.output.renderOutput(dataTable, element);\n",
              "          const docLink = document.createElement('div');\n",
              "          docLink.innerHTML = docLinkHtml;\n",
              "          element.appendChild(docLink);\n",
              "        }\n",
              "      </script>\n",
              "    </div>\n",
              "  </div>\n",
              "  "
            ]
          },
          "metadata": {},
          "execution_count": 38
        }
      ]
    },
    {
      "cell_type": "code",
      "source": [
        "df.describe()"
      ],
      "metadata": {
        "colab": {
          "base_uri": "https://localhost:8080/",
          "height": 300
        },
        "id": "N79exOVreKZ3",
        "outputId": "a4035813-96ae-4cfa-ff2c-bfd0f4ce4186"
      },
      "execution_count": null,
      "outputs": [
        {
          "output_type": "execute_result",
          "data": {
            "text/plain": [
              "           theta       aux1       aux2  time_spent\n",
              "count  20.000000  20.000000  20.000000   20.000000\n",
              "mean    0.475222  -0.126610   0.069323    9.924470\n",
              "std     0.292726   0.818612   1.168883    5.221924\n",
              "min     0.039063  -1.775282  -2.035995  -11.881355\n",
              "25%     0.260121  -0.768007  -0.818534   10.194721\n",
              "50%     0.541169  -0.017364   0.185624   11.057940\n",
              "75%     0.653397   0.385255   0.654222   11.771874\n",
              "max     0.945683   1.314877   3.345157   12.848234"
            ],
            "text/html": [
              "\n",
              "  <div id=\"df-16844f9b-44ba-40bb-b195-a932551dfafe\">\n",
              "    <div class=\"colab-df-container\">\n",
              "      <div>\n",
              "<style scoped>\n",
              "    .dataframe tbody tr th:only-of-type {\n",
              "        vertical-align: middle;\n",
              "    }\n",
              "\n",
              "    .dataframe tbody tr th {\n",
              "        vertical-align: top;\n",
              "    }\n",
              "\n",
              "    .dataframe thead th {\n",
              "        text-align: right;\n",
              "    }\n",
              "</style>\n",
              "<table border=\"1\" class=\"dataframe\">\n",
              "  <thead>\n",
              "    <tr style=\"text-align: right;\">\n",
              "      <th></th>\n",
              "      <th>theta</th>\n",
              "      <th>aux1</th>\n",
              "      <th>aux2</th>\n",
              "      <th>time_spent</th>\n",
              "    </tr>\n",
              "  </thead>\n",
              "  <tbody>\n",
              "    <tr>\n",
              "      <th>count</th>\n",
              "      <td>20.000000</td>\n",
              "      <td>20.000000</td>\n",
              "      <td>20.000000</td>\n",
              "      <td>20.000000</td>\n",
              "    </tr>\n",
              "    <tr>\n",
              "      <th>mean</th>\n",
              "      <td>0.475222</td>\n",
              "      <td>-0.126610</td>\n",
              "      <td>0.069323</td>\n",
              "      <td>9.924470</td>\n",
              "    </tr>\n",
              "    <tr>\n",
              "      <th>std</th>\n",
              "      <td>0.292726</td>\n",
              "      <td>0.818612</td>\n",
              "      <td>1.168883</td>\n",
              "      <td>5.221924</td>\n",
              "    </tr>\n",
              "    <tr>\n",
              "      <th>min</th>\n",
              "      <td>0.039063</td>\n",
              "      <td>-1.775282</td>\n",
              "      <td>-2.035995</td>\n",
              "      <td>-11.881355</td>\n",
              "    </tr>\n",
              "    <tr>\n",
              "      <th>25%</th>\n",
              "      <td>0.260121</td>\n",
              "      <td>-0.768007</td>\n",
              "      <td>-0.818534</td>\n",
              "      <td>10.194721</td>\n",
              "    </tr>\n",
              "    <tr>\n",
              "      <th>50%</th>\n",
              "      <td>0.541169</td>\n",
              "      <td>-0.017364</td>\n",
              "      <td>0.185624</td>\n",
              "      <td>11.057940</td>\n",
              "    </tr>\n",
              "    <tr>\n",
              "      <th>75%</th>\n",
              "      <td>0.653397</td>\n",
              "      <td>0.385255</td>\n",
              "      <td>0.654222</td>\n",
              "      <td>11.771874</td>\n",
              "    </tr>\n",
              "    <tr>\n",
              "      <th>max</th>\n",
              "      <td>0.945683</td>\n",
              "      <td>1.314877</td>\n",
              "      <td>3.345157</td>\n",
              "      <td>12.848234</td>\n",
              "    </tr>\n",
              "  </tbody>\n",
              "</table>\n",
              "</div>\n",
              "      <button class=\"colab-df-convert\" onclick=\"convertToInteractive('df-16844f9b-44ba-40bb-b195-a932551dfafe')\"\n",
              "              title=\"Convert this dataframe to an interactive table.\"\n",
              "              style=\"display:none;\">\n",
              "        \n",
              "  <svg xmlns=\"http://www.w3.org/2000/svg\" height=\"24px\"viewBox=\"0 0 24 24\"\n",
              "       width=\"24px\">\n",
              "    <path d=\"M0 0h24v24H0V0z\" fill=\"none\"/>\n",
              "    <path d=\"M18.56 5.44l.94 2.06.94-2.06 2.06-.94-2.06-.94-.94-2.06-.94 2.06-2.06.94zm-11 1L8.5 8.5l.94-2.06 2.06-.94-2.06-.94L8.5 2.5l-.94 2.06-2.06.94zm10 10l.94 2.06.94-2.06 2.06-.94-2.06-.94-.94-2.06-.94 2.06-2.06.94z\"/><path d=\"M17.41 7.96l-1.37-1.37c-.4-.4-.92-.59-1.43-.59-.52 0-1.04.2-1.43.59L10.3 9.45l-7.72 7.72c-.78.78-.78 2.05 0 2.83L4 21.41c.39.39.9.59 1.41.59.51 0 1.02-.2 1.41-.59l7.78-7.78 2.81-2.81c.8-.78.8-2.07 0-2.86zM5.41 20L4 18.59l7.72-7.72 1.47 1.35L5.41 20z\"/>\n",
              "  </svg>\n",
              "      </button>\n",
              "      \n",
              "  <style>\n",
              "    .colab-df-container {\n",
              "      display:flex;\n",
              "      flex-wrap:wrap;\n",
              "      gap: 12px;\n",
              "    }\n",
              "\n",
              "    .colab-df-convert {\n",
              "      background-color: #E8F0FE;\n",
              "      border: none;\n",
              "      border-radius: 50%;\n",
              "      cursor: pointer;\n",
              "      display: none;\n",
              "      fill: #1967D2;\n",
              "      height: 32px;\n",
              "      padding: 0 0 0 0;\n",
              "      width: 32px;\n",
              "    }\n",
              "\n",
              "    .colab-df-convert:hover {\n",
              "      background-color: #E2EBFA;\n",
              "      box-shadow: 0px 1px 2px rgba(60, 64, 67, 0.3), 0px 1px 3px 1px rgba(60, 64, 67, 0.15);\n",
              "      fill: #174EA6;\n",
              "    }\n",
              "\n",
              "    [theme=dark] .colab-df-convert {\n",
              "      background-color: #3B4455;\n",
              "      fill: #D2E3FC;\n",
              "    }\n",
              "\n",
              "    [theme=dark] .colab-df-convert:hover {\n",
              "      background-color: #434B5C;\n",
              "      box-shadow: 0px 1px 3px 1px rgba(0, 0, 0, 0.15);\n",
              "      filter: drop-shadow(0px 1px 2px rgba(0, 0, 0, 0.3));\n",
              "      fill: #FFFFFF;\n",
              "    }\n",
              "  </style>\n",
              "\n",
              "      <script>\n",
              "        const buttonEl =\n",
              "          document.querySelector('#df-16844f9b-44ba-40bb-b195-a932551dfafe button.colab-df-convert');\n",
              "        buttonEl.style.display =\n",
              "          google.colab.kernel.accessAllowed ? 'block' : 'none';\n",
              "\n",
              "        async function convertToInteractive(key) {\n",
              "          const element = document.querySelector('#df-16844f9b-44ba-40bb-b195-a932551dfafe');\n",
              "          const dataTable =\n",
              "            await google.colab.kernel.invokeFunction('convertToInteractive',\n",
              "                                                     [key], {});\n",
              "          if (!dataTable) return;\n",
              "\n",
              "          const docLinkHtml = 'Like what you see? Visit the ' +\n",
              "            '<a target=\"_blank\" href=https://colab.research.google.com/notebooks/data_table.ipynb>data table notebook</a>'\n",
              "            + ' to learn more about interactive tables.';\n",
              "          element.innerHTML = '';\n",
              "          dataTable['output_type'] = 'display_data';\n",
              "          await google.colab.output.renderOutput(dataTable, element);\n",
              "          const docLink = document.createElement('div');\n",
              "          docLink.innerHTML = docLinkHtml;\n",
              "          element.appendChild(docLink);\n",
              "        }\n",
              "      </script>\n",
              "    </div>\n",
              "  </div>\n",
              "  "
            ]
          },
          "metadata": {},
          "execution_count": 39
        }
      ]
    },
    {
      "cell_type": "code",
      "source": [
        "df.isnull().sum()"
      ],
      "metadata": {
        "colab": {
          "base_uri": "https://localhost:8080/"
        },
        "id": "hrIEjLhneOQK",
        "outputId": "ae34ee22-710d-41e2-bdd2-f901412083a1"
      },
      "execution_count": null,
      "outputs": [
        {
          "output_type": "execute_result",
          "data": {
            "text/plain": [
              "theta         0\n",
              "aux1          0\n",
              "aux2          0\n",
              "time_spent    0\n",
              "dtype: int64"
            ]
          },
          "metadata": {},
          "execution_count": 40
        }
      ]
    },
    {
      "cell_type": "code",
      "source": [
        "np.where(df.time_spent<0)"
      ],
      "metadata": {
        "colab": {
          "base_uri": "https://localhost:8080/"
        },
        "id": "mmz8A-dHemRc",
        "outputId": "2f822d23-98da-40fc-f38a-e4745d5b2917"
      },
      "execution_count": null,
      "outputs": [
        {
          "output_type": "execute_result",
          "data": {
            "text/plain": [
              "(array([13]),)"
            ]
          },
          "metadata": {},
          "execution_count": 41
        }
      ]
    },
    {
      "cell_type": "code",
      "source": [
        "timespent_negative_rows = df.loc[df['time_spent'] < 0].index\n",
        "\n",
        "print(timespent_negative_rows)"
      ],
      "metadata": {
        "colab": {
          "base_uri": "https://localhost:8080/"
        },
        "id": "dqPWBvp2ergV",
        "outputId": "010337cd-267d-42be-c85d-1d2470cb431c"
      },
      "execution_count": null,
      "outputs": [
        {
          "output_type": "stream",
          "name": "stdout",
          "text": [
            "Int64Index([13], dtype='int64')\n"
          ]
        }
      ]
    },
    {
      "cell_type": "code",
      "source": [
        "#Remove 14th row, maintain the indexing\n",
        "df.drop(13, axis=0, inplace=True)\n",
        "df.reset_index(drop=True, inplace=True)"
      ],
      "metadata": {
        "id": "_Mm569Zrf1FZ"
      },
      "execution_count": null,
      "outputs": []
    },
    {
      "cell_type": "code",
      "source": [
        "timespent_negative_rows = df.loc[df['time_spent'] < 0].index\n",
        "\n",
        "print(timespent_negative_rows)"
      ],
      "metadata": {
        "colab": {
          "base_uri": "https://localhost:8080/"
        },
        "id": "SNV-KRLcf2yl",
        "outputId": "0762edd5-1273-4dac-8e32-fb4fe96eae43"
      },
      "execution_count": null,
      "outputs": [
        {
          "output_type": "stream",
          "name": "stdout",
          "text": [
            "Int64Index([], dtype='int64')\n"
          ]
        }
      ]
    },
    {
      "cell_type": "code",
      "source": [
        "df"
      ],
      "metadata": {
        "colab": {
          "base_uri": "https://localhost:8080/",
          "height": 645
        },
        "id": "kbMf92lif63f",
        "outputId": "ae14a131-6598-46b0-bc04-9c17cb28f923"
      },
      "execution_count": null,
      "outputs": [
        {
          "output_type": "execute_result",
          "data": {
            "text/plain": [
              "       theta      aux1      aux2  time_spent\n",
              "0   0.039063  0.539840  0.968205   10.797684\n",
              "1   0.051194 -1.775282  0.869624   10.876481\n",
              "2   0.060045  1.314877  0.567783   10.292749\n",
              "3   0.067900 -0.473448  0.465282   10.787566\n",
              "4   0.191521 -1.092230 -1.165373    9.518448\n",
              "5   0.282988 -0.250027 -2.035995    9.180788\n",
              "6   0.294665 -0.982294 -1.155413    9.900636\n",
              "7   0.357814  1.031269  3.345157   12.848234\n",
              "8   0.483529  0.491334  0.126727   10.927435\n",
              "9   0.530587 -0.446647 -0.694179    9.889276\n",
              "10  0.551751 -0.806360  0.557674   11.337371\n",
              "11  0.575603  0.131268  0.099147   11.439969\n",
              "12  0.597513 -1.212560  0.637926   11.883922\n",
              "13  0.652419 -0.755223 -0.916093   11.734525\n",
              "14  0.656334  0.349896 -0.786014   11.188444\n",
              "15  0.786985  0.977542  1.119182   12.191443\n",
              "16  0.864042 -0.138585 -0.983396   11.352948\n",
              "17  0.877291  0.103856  0.244520   12.238544\n",
              "18  0.945683  0.300591 -0.581410   11.984290"
            ],
            "text/html": [
              "\n",
              "  <div id=\"df-0c48aecc-e956-4171-ae85-d6cd8f9269d7\">\n",
              "    <div class=\"colab-df-container\">\n",
              "      <div>\n",
              "<style scoped>\n",
              "    .dataframe tbody tr th:only-of-type {\n",
              "        vertical-align: middle;\n",
              "    }\n",
              "\n",
              "    .dataframe tbody tr th {\n",
              "        vertical-align: top;\n",
              "    }\n",
              "\n",
              "    .dataframe thead th {\n",
              "        text-align: right;\n",
              "    }\n",
              "</style>\n",
              "<table border=\"1\" class=\"dataframe\">\n",
              "  <thead>\n",
              "    <tr style=\"text-align: right;\">\n",
              "      <th></th>\n",
              "      <th>theta</th>\n",
              "      <th>aux1</th>\n",
              "      <th>aux2</th>\n",
              "      <th>time_spent</th>\n",
              "    </tr>\n",
              "  </thead>\n",
              "  <tbody>\n",
              "    <tr>\n",
              "      <th>0</th>\n",
              "      <td>0.039063</td>\n",
              "      <td>0.539840</td>\n",
              "      <td>0.968205</td>\n",
              "      <td>10.797684</td>\n",
              "    </tr>\n",
              "    <tr>\n",
              "      <th>1</th>\n",
              "      <td>0.051194</td>\n",
              "      <td>-1.775282</td>\n",
              "      <td>0.869624</td>\n",
              "      <td>10.876481</td>\n",
              "    </tr>\n",
              "    <tr>\n",
              "      <th>2</th>\n",
              "      <td>0.060045</td>\n",
              "      <td>1.314877</td>\n",
              "      <td>0.567783</td>\n",
              "      <td>10.292749</td>\n",
              "    </tr>\n",
              "    <tr>\n",
              "      <th>3</th>\n",
              "      <td>0.067900</td>\n",
              "      <td>-0.473448</td>\n",
              "      <td>0.465282</td>\n",
              "      <td>10.787566</td>\n",
              "    </tr>\n",
              "    <tr>\n",
              "      <th>4</th>\n",
              "      <td>0.191521</td>\n",
              "      <td>-1.092230</td>\n",
              "      <td>-1.165373</td>\n",
              "      <td>9.518448</td>\n",
              "    </tr>\n",
              "    <tr>\n",
              "      <th>5</th>\n",
              "      <td>0.282988</td>\n",
              "      <td>-0.250027</td>\n",
              "      <td>-2.035995</td>\n",
              "      <td>9.180788</td>\n",
              "    </tr>\n",
              "    <tr>\n",
              "      <th>6</th>\n",
              "      <td>0.294665</td>\n",
              "      <td>-0.982294</td>\n",
              "      <td>-1.155413</td>\n",
              "      <td>9.900636</td>\n",
              "    </tr>\n",
              "    <tr>\n",
              "      <th>7</th>\n",
              "      <td>0.357814</td>\n",
              "      <td>1.031269</td>\n",
              "      <td>3.345157</td>\n",
              "      <td>12.848234</td>\n",
              "    </tr>\n",
              "    <tr>\n",
              "      <th>8</th>\n",
              "      <td>0.483529</td>\n",
              "      <td>0.491334</td>\n",
              "      <td>0.126727</td>\n",
              "      <td>10.927435</td>\n",
              "    </tr>\n",
              "    <tr>\n",
              "      <th>9</th>\n",
              "      <td>0.530587</td>\n",
              "      <td>-0.446647</td>\n",
              "      <td>-0.694179</td>\n",
              "      <td>9.889276</td>\n",
              "    </tr>\n",
              "    <tr>\n",
              "      <th>10</th>\n",
              "      <td>0.551751</td>\n",
              "      <td>-0.806360</td>\n",
              "      <td>0.557674</td>\n",
              "      <td>11.337371</td>\n",
              "    </tr>\n",
              "    <tr>\n",
              "      <th>11</th>\n",
              "      <td>0.575603</td>\n",
              "      <td>0.131268</td>\n",
              "      <td>0.099147</td>\n",
              "      <td>11.439969</td>\n",
              "    </tr>\n",
              "    <tr>\n",
              "      <th>12</th>\n",
              "      <td>0.597513</td>\n",
              "      <td>-1.212560</td>\n",
              "      <td>0.637926</td>\n",
              "      <td>11.883922</td>\n",
              "    </tr>\n",
              "    <tr>\n",
              "      <th>13</th>\n",
              "      <td>0.652419</td>\n",
              "      <td>-0.755223</td>\n",
              "      <td>-0.916093</td>\n",
              "      <td>11.734525</td>\n",
              "    </tr>\n",
              "    <tr>\n",
              "      <th>14</th>\n",
              "      <td>0.656334</td>\n",
              "      <td>0.349896</td>\n",
              "      <td>-0.786014</td>\n",
              "      <td>11.188444</td>\n",
              "    </tr>\n",
              "    <tr>\n",
              "      <th>15</th>\n",
              "      <td>0.786985</td>\n",
              "      <td>0.977542</td>\n",
              "      <td>1.119182</td>\n",
              "      <td>12.191443</td>\n",
              "    </tr>\n",
              "    <tr>\n",
              "      <th>16</th>\n",
              "      <td>0.864042</td>\n",
              "      <td>-0.138585</td>\n",
              "      <td>-0.983396</td>\n",
              "      <td>11.352948</td>\n",
              "    </tr>\n",
              "    <tr>\n",
              "      <th>17</th>\n",
              "      <td>0.877291</td>\n",
              "      <td>0.103856</td>\n",
              "      <td>0.244520</td>\n",
              "      <td>12.238544</td>\n",
              "    </tr>\n",
              "    <tr>\n",
              "      <th>18</th>\n",
              "      <td>0.945683</td>\n",
              "      <td>0.300591</td>\n",
              "      <td>-0.581410</td>\n",
              "      <td>11.984290</td>\n",
              "    </tr>\n",
              "  </tbody>\n",
              "</table>\n",
              "</div>\n",
              "      <button class=\"colab-df-convert\" onclick=\"convertToInteractive('df-0c48aecc-e956-4171-ae85-d6cd8f9269d7')\"\n",
              "              title=\"Convert this dataframe to an interactive table.\"\n",
              "              style=\"display:none;\">\n",
              "        \n",
              "  <svg xmlns=\"http://www.w3.org/2000/svg\" height=\"24px\"viewBox=\"0 0 24 24\"\n",
              "       width=\"24px\">\n",
              "    <path d=\"M0 0h24v24H0V0z\" fill=\"none\"/>\n",
              "    <path d=\"M18.56 5.44l.94 2.06.94-2.06 2.06-.94-2.06-.94-.94-2.06-.94 2.06-2.06.94zm-11 1L8.5 8.5l.94-2.06 2.06-.94-2.06-.94L8.5 2.5l-.94 2.06-2.06.94zm10 10l.94 2.06.94-2.06 2.06-.94-2.06-.94-.94-2.06-.94 2.06-2.06.94z\"/><path d=\"M17.41 7.96l-1.37-1.37c-.4-.4-.92-.59-1.43-.59-.52 0-1.04.2-1.43.59L10.3 9.45l-7.72 7.72c-.78.78-.78 2.05 0 2.83L4 21.41c.39.39.9.59 1.41.59.51 0 1.02-.2 1.41-.59l7.78-7.78 2.81-2.81c.8-.78.8-2.07 0-2.86zM5.41 20L4 18.59l7.72-7.72 1.47 1.35L5.41 20z\"/>\n",
              "  </svg>\n",
              "      </button>\n",
              "      \n",
              "  <style>\n",
              "    .colab-df-container {\n",
              "      display:flex;\n",
              "      flex-wrap:wrap;\n",
              "      gap: 12px;\n",
              "    }\n",
              "\n",
              "    .colab-df-convert {\n",
              "      background-color: #E8F0FE;\n",
              "      border: none;\n",
              "      border-radius: 50%;\n",
              "      cursor: pointer;\n",
              "      display: none;\n",
              "      fill: #1967D2;\n",
              "      height: 32px;\n",
              "      padding: 0 0 0 0;\n",
              "      width: 32px;\n",
              "    }\n",
              "\n",
              "    .colab-df-convert:hover {\n",
              "      background-color: #E2EBFA;\n",
              "      box-shadow: 0px 1px 2px rgba(60, 64, 67, 0.3), 0px 1px 3px 1px rgba(60, 64, 67, 0.15);\n",
              "      fill: #174EA6;\n",
              "    }\n",
              "\n",
              "    [theme=dark] .colab-df-convert {\n",
              "      background-color: #3B4455;\n",
              "      fill: #D2E3FC;\n",
              "    }\n",
              "\n",
              "    [theme=dark] .colab-df-convert:hover {\n",
              "      background-color: #434B5C;\n",
              "      box-shadow: 0px 1px 3px 1px rgba(0, 0, 0, 0.15);\n",
              "      filter: drop-shadow(0px 1px 2px rgba(0, 0, 0, 0.3));\n",
              "      fill: #FFFFFF;\n",
              "    }\n",
              "  </style>\n",
              "\n",
              "      <script>\n",
              "        const buttonEl =\n",
              "          document.querySelector('#df-0c48aecc-e956-4171-ae85-d6cd8f9269d7 button.colab-df-convert');\n",
              "        buttonEl.style.display =\n",
              "          google.colab.kernel.accessAllowed ? 'block' : 'none';\n",
              "\n",
              "        async function convertToInteractive(key) {\n",
              "          const element = document.querySelector('#df-0c48aecc-e956-4171-ae85-d6cd8f9269d7');\n",
              "          const dataTable =\n",
              "            await google.colab.kernel.invokeFunction('convertToInteractive',\n",
              "                                                     [key], {});\n",
              "          if (!dataTable) return;\n",
              "\n",
              "          const docLinkHtml = 'Like what you see? Visit the ' +\n",
              "            '<a target=\"_blank\" href=https://colab.research.google.com/notebooks/data_table.ipynb>data table notebook</a>'\n",
              "            + ' to learn more about interactive tables.';\n",
              "          element.innerHTML = '';\n",
              "          dataTable['output_type'] = 'display_data';\n",
              "          await google.colab.output.renderOutput(dataTable, element);\n",
              "          const docLink = document.createElement('div');\n",
              "          docLink.innerHTML = docLinkHtml;\n",
              "          element.appendChild(docLink);\n",
              "        }\n",
              "      </script>\n",
              "    </div>\n",
              "  </div>\n",
              "  "
            ]
          },
          "metadata": {},
          "execution_count": 45
        }
      ]
    },
    {
      "cell_type": "code",
      "source": [
        "df.describe()"
      ],
      "metadata": {
        "colab": {
          "base_uri": "https://localhost:8080/",
          "height": 300
        },
        "id": "8RpaWMZBosDB",
        "outputId": "40110b4e-8014-4f58-8e36-3e4653a40d7a"
      },
      "execution_count": null,
      "outputs": [
        {
          "output_type": "execute_result",
          "data": {
            "text/plain": [
              "           theta       aux1       aux2  time_spent\n",
              "count  19.000000  19.000000  19.000000   19.000000\n",
              "mean    0.466680  -0.141694   0.035966   11.072145\n",
              "std     0.298175   0.838183   1.191092    0.988303\n",
              "min     0.039063  -1.775282  -2.035995    9.180788\n",
              "25%     0.237254  -0.780792  -0.851054   10.540158\n",
              "50%     0.530587  -0.138585   0.126727   11.188444\n",
              "75%     0.654376   0.420615   0.602855   11.809223\n",
              "max     0.945683   1.314877   3.345157   12.848234"
            ],
            "text/html": [
              "\n",
              "  <div id=\"df-343787b4-8c24-42d1-90c5-b3eac94ce78b\">\n",
              "    <div class=\"colab-df-container\">\n",
              "      <div>\n",
              "<style scoped>\n",
              "    .dataframe tbody tr th:only-of-type {\n",
              "        vertical-align: middle;\n",
              "    }\n",
              "\n",
              "    .dataframe tbody tr th {\n",
              "        vertical-align: top;\n",
              "    }\n",
              "\n",
              "    .dataframe thead th {\n",
              "        text-align: right;\n",
              "    }\n",
              "</style>\n",
              "<table border=\"1\" class=\"dataframe\">\n",
              "  <thead>\n",
              "    <tr style=\"text-align: right;\">\n",
              "      <th></th>\n",
              "      <th>theta</th>\n",
              "      <th>aux1</th>\n",
              "      <th>aux2</th>\n",
              "      <th>time_spent</th>\n",
              "    </tr>\n",
              "  </thead>\n",
              "  <tbody>\n",
              "    <tr>\n",
              "      <th>count</th>\n",
              "      <td>19.000000</td>\n",
              "      <td>19.000000</td>\n",
              "      <td>19.000000</td>\n",
              "      <td>19.000000</td>\n",
              "    </tr>\n",
              "    <tr>\n",
              "      <th>mean</th>\n",
              "      <td>0.466680</td>\n",
              "      <td>-0.141694</td>\n",
              "      <td>0.035966</td>\n",
              "      <td>11.072145</td>\n",
              "    </tr>\n",
              "    <tr>\n",
              "      <th>std</th>\n",
              "      <td>0.298175</td>\n",
              "      <td>0.838183</td>\n",
              "      <td>1.191092</td>\n",
              "      <td>0.988303</td>\n",
              "    </tr>\n",
              "    <tr>\n",
              "      <th>min</th>\n",
              "      <td>0.039063</td>\n",
              "      <td>-1.775282</td>\n",
              "      <td>-2.035995</td>\n",
              "      <td>9.180788</td>\n",
              "    </tr>\n",
              "    <tr>\n",
              "      <th>25%</th>\n",
              "      <td>0.237254</td>\n",
              "      <td>-0.780792</td>\n",
              "      <td>-0.851054</td>\n",
              "      <td>10.540158</td>\n",
              "    </tr>\n",
              "    <tr>\n",
              "      <th>50%</th>\n",
              "      <td>0.530587</td>\n",
              "      <td>-0.138585</td>\n",
              "      <td>0.126727</td>\n",
              "      <td>11.188444</td>\n",
              "    </tr>\n",
              "    <tr>\n",
              "      <th>75%</th>\n",
              "      <td>0.654376</td>\n",
              "      <td>0.420615</td>\n",
              "      <td>0.602855</td>\n",
              "      <td>11.809223</td>\n",
              "    </tr>\n",
              "    <tr>\n",
              "      <th>max</th>\n",
              "      <td>0.945683</td>\n",
              "      <td>1.314877</td>\n",
              "      <td>3.345157</td>\n",
              "      <td>12.848234</td>\n",
              "    </tr>\n",
              "  </tbody>\n",
              "</table>\n",
              "</div>\n",
              "      <button class=\"colab-df-convert\" onclick=\"convertToInteractive('df-343787b4-8c24-42d1-90c5-b3eac94ce78b')\"\n",
              "              title=\"Convert this dataframe to an interactive table.\"\n",
              "              style=\"display:none;\">\n",
              "        \n",
              "  <svg xmlns=\"http://www.w3.org/2000/svg\" height=\"24px\"viewBox=\"0 0 24 24\"\n",
              "       width=\"24px\">\n",
              "    <path d=\"M0 0h24v24H0V0z\" fill=\"none\"/>\n",
              "    <path d=\"M18.56 5.44l.94 2.06.94-2.06 2.06-.94-2.06-.94-.94-2.06-.94 2.06-2.06.94zm-11 1L8.5 8.5l.94-2.06 2.06-.94-2.06-.94L8.5 2.5l-.94 2.06-2.06.94zm10 10l.94 2.06.94-2.06 2.06-.94-2.06-.94-.94-2.06-.94 2.06-2.06.94z\"/><path d=\"M17.41 7.96l-1.37-1.37c-.4-.4-.92-.59-1.43-.59-.52 0-1.04.2-1.43.59L10.3 9.45l-7.72 7.72c-.78.78-.78 2.05 0 2.83L4 21.41c.39.39.9.59 1.41.59.51 0 1.02-.2 1.41-.59l7.78-7.78 2.81-2.81c.8-.78.8-2.07 0-2.86zM5.41 20L4 18.59l7.72-7.72 1.47 1.35L5.41 20z\"/>\n",
              "  </svg>\n",
              "      </button>\n",
              "      \n",
              "  <style>\n",
              "    .colab-df-container {\n",
              "      display:flex;\n",
              "      flex-wrap:wrap;\n",
              "      gap: 12px;\n",
              "    }\n",
              "\n",
              "    .colab-df-convert {\n",
              "      background-color: #E8F0FE;\n",
              "      border: none;\n",
              "      border-radius: 50%;\n",
              "      cursor: pointer;\n",
              "      display: none;\n",
              "      fill: #1967D2;\n",
              "      height: 32px;\n",
              "      padding: 0 0 0 0;\n",
              "      width: 32px;\n",
              "    }\n",
              "\n",
              "    .colab-df-convert:hover {\n",
              "      background-color: #E2EBFA;\n",
              "      box-shadow: 0px 1px 2px rgba(60, 64, 67, 0.3), 0px 1px 3px 1px rgba(60, 64, 67, 0.15);\n",
              "      fill: #174EA6;\n",
              "    }\n",
              "\n",
              "    [theme=dark] .colab-df-convert {\n",
              "      background-color: #3B4455;\n",
              "      fill: #D2E3FC;\n",
              "    }\n",
              "\n",
              "    [theme=dark] .colab-df-convert:hover {\n",
              "      background-color: #434B5C;\n",
              "      box-shadow: 0px 1px 3px 1px rgba(0, 0, 0, 0.15);\n",
              "      filter: drop-shadow(0px 1px 2px rgba(0, 0, 0, 0.3));\n",
              "      fill: #FFFFFF;\n",
              "    }\n",
              "  </style>\n",
              "\n",
              "      <script>\n",
              "        const buttonEl =\n",
              "          document.querySelector('#df-343787b4-8c24-42d1-90c5-b3eac94ce78b button.colab-df-convert');\n",
              "        buttonEl.style.display =\n",
              "          google.colab.kernel.accessAllowed ? 'block' : 'none';\n",
              "\n",
              "        async function convertToInteractive(key) {\n",
              "          const element = document.querySelector('#df-343787b4-8c24-42d1-90c5-b3eac94ce78b');\n",
              "          const dataTable =\n",
              "            await google.colab.kernel.invokeFunction('convertToInteractive',\n",
              "                                                     [key], {});\n",
              "          if (!dataTable) return;\n",
              "\n",
              "          const docLinkHtml = 'Like what you see? Visit the ' +\n",
              "            '<a target=\"_blank\" href=https://colab.research.google.com/notebooks/data_table.ipynb>data table notebook</a>'\n",
              "            + ' to learn more about interactive tables.';\n",
              "          element.innerHTML = '';\n",
              "          dataTable['output_type'] = 'display_data';\n",
              "          await google.colab.output.renderOutput(dataTable, element);\n",
              "          const docLink = document.createElement('div');\n",
              "          docLink.innerHTML = docLinkHtml;\n",
              "          element.appendChild(docLink);\n",
              "        }\n",
              "      </script>\n",
              "    </div>\n",
              "  </div>\n",
              "  "
            ]
          },
          "metadata": {},
          "execution_count": 46
        }
      ]
    },
    {
      "cell_type": "markdown",
      "metadata": {
        "id": "UIIJO-NPdBQC"
      },
      "source": [
        "## 2. Build a model\n",
        "\n",
        "Write functions to run a regression, calculate the regression statistics listed below, and print a report.\n",
        "- B (regressor coefficients plus one for an intercept, if appropriate)\n",
        "- R2\n",
        "- RSS\n",
        "- RegSS\n",
        "- TSS\n",
        "- t statistic for each regressor coefficient\n",
        "\n",
        "I found it useful to decompose the problem into three functions: `regress_calc()`, `regress_tstat()`, and `regress_report()`. You may write it however you see fit.\n",
        "\n",
        "You may include either, both, or neither of *aux1* and *aux2* in your final model. Experiment. What works best? Justify your decision."
      ]
    },
    {
      "cell_type": "code",
      "source": [
        "from sklearn.linear_model import LinearRegression\n",
        "import numpy as np\n",
        "import scipy.stats\n",
        "\n",
        "def regress_calc(input_cols):\n",
        "    X = df[input_cols]\n",
        "    y = df.iloc[:,-1]\n",
        "    n = len(X)\n",
        "    Lin_Reg = LinearRegression().fit(X, y)\n",
        "    y_hat = Lin_Reg.predict(X)\n",
        "    y_mean = np.mean(y)\n",
        "    intercept = Lin_Reg.intercept_\n",
        "    B = Lin_Reg.coef_\n",
        "    TSS = sum((y - y_mean)**2)\n",
        "    RSS = sum((y - y_hat)**2)\n",
        "    RegSS = TSS - RSS\n",
        "    R2 = RegSS / TSS\n",
        "    return intercept, B, R2, RSS, RegSS, TSS\n",
        "\n",
        "def regress_tstat(input_cols, B):\n",
        "    X = df[input_cols]\n",
        "    y = df.iloc[:,-1]\n",
        "    n = len(X)\n",
        "    pvalue_sign = []\n",
        "    alpha = 0.05\n",
        "\n",
        "    t_scores = B / (np.std(X)/np.sqrt(n))\n",
        "    p_values = (scipy.stats.t.sf(np.abs(t_scores), df=n))*2\n",
        "    t_statistics = list(t_scores)\n",
        "\n",
        "    for i in p_values:\n",
        "      if i < alpha:\n",
        "        pvalue_sign.append(True)\n",
        "      else:\n",
        "        pvalue_sign.append(False)\n",
        "\n",
        "    return p_values, pvalue_sign, t_statistics\n",
        "\n",
        "\n",
        "def regress_report(input_cols):\n",
        "    intercept, B, R2, RSS, RegSS, TSS = regress_calc(input_cols)\n",
        "    p_values, pvalue_sign, t_statistics = regress_tstat(input_cols, B)\n",
        "\n",
        "    print('\\nR^2 = {}'.format(R2))\n",
        "    print('Input columns: {}'.format(input_cols))\n",
        "    print('Significance of P-Values = {}'.format(pvalue_sign))\n",
        "    print('Intercept = {}'.format(intercept))\n",
        "    print('B = {}'.format(B))\n",
        "    print('RSS = {}'.format(RSS))\n",
        "    print('RegSS = {}'.format(RegSS))\n",
        "    print('TSS = {}'.format(TSS))\n",
        "    print('p_values = {}'.format(p_values))\n",
        "    print('t_statistic = {}'.format(t_statistics))"
      ],
      "metadata": {
        "id": "TcFIaMFyh2kd"
      },
      "execution_count": null,
      "outputs": []
    },
    {
      "cell_type": "code",
      "source": [
        "reg_combos = [['theta','aux1','aux2'],['aux1','aux2'],['theta','aux1'],\n",
        "              ['theta','aux2'],['theta'],['aux1'],['aux2']]\n",
        "\n",
        "for i in reg_combos:\n",
        "  regress_report(i)"
      ],
      "metadata": {
        "colab": {
          "base_uri": "https://localhost:8080/"
        },
        "id": "t2DXCqy7khPe",
        "outputId": "29d59011-5631-44ed-d448-917d15174507"
      },
      "execution_count": null,
      "outputs": [
        {
          "output_type": "stream",
          "name": "stdout",
          "text": [
            "\n",
            "R^2 = 0.888179612859572\n",
            "Input columns: ['theta', 'aux1', 'aux2']\n",
            "Significance of P-Values = [True, False, True]\n",
            "Intercept = 9.920094669515057\n",
            "B = [ 2.3876759  -0.10000621  0.65613708]\n",
            "RSS = 1.9659559596739293\n",
            "RegSS = 15.615417258118748\n",
            "TSS = 17.581373217792677\n",
            "p_values = [6.45018856e-19 5.99313956e-01 2.33039270e-02]\n",
            "t_statistic = [35.860922062585516, -0.5343249395736329, 2.4669850599262153]\n",
            "\n",
            "R^2 = 0.41321369485899573\n",
            "Input columns: ['aux1', 'aux2']\n",
            "Significance of P-Values = [False, False]\n",
            "Intercept = 11.070569154567039\n",
            "B = [0.11530773 0.49808471]\n",
            "RSS = 10.316509029773574\n",
            "RegSS = 7.264864188019104\n",
            "TSS = 17.581373217792677\n",
            "p_values = [0.5451528  0.07657676]\n",
            "t_statistic = [0.6160796737330162, 1.8727299331775393]\n",
            "\n",
            "R^2 = 0.3813885891979512\n",
            "Input columns: ['theta', 'aux1']\n",
            "Significance of P-Values = [True, False]\n",
            "Intercept = 10.283645737202516\n",
            "B = [1.77398701 0.27796262]\n",
            "RSS = 10.876038090096085\n",
            "RegSS = 6.705335127696593\n",
            "TSS = 17.581373217792677\n",
            "p_values = [1.64016332e-16 1.53912205e-01]\n",
            "t_statistic = [26.64382127220909, 1.4851313560636872]\n",
            "\n",
            "R^2 = 0.88232007612844\n",
            "Input columns: ['theta', 'aux2']\n",
            "Significance of P-Values = [True, True]\n",
            "Intercept = 9.964892697273081\n",
            "B = [2.32425661 0.62746508]\n",
            "RSS = 2.0689746618273253\n",
            "RegSS = 15.512398555965351\n",
            "TSS = 17.581373217792677\n",
            "p_values = [1.06793214e-18 2.91728819e-02]\n",
            "t_statistic = [34.908416643517334, 2.359182294978814]\n",
            "\n",
            "R^2 = 0.327166480015125\n",
            "Input columns: ['theta']\n",
            "Significance of P-Values = [True]\n",
            "Intercept = 10.18739048685853\n",
            "B = [1.89584694]\n",
            "RSS = 11.829337228295255\n",
            "RegSS = 5.752035989497422\n",
            "TSS = 17.581373217792677\n",
            "p_values = [4.78023618e-17]\n",
            "t_statistic = [28.47405680208773]\n",
            "\n",
            "R^2 = 0.10189665382786606\n",
            "Input columns: ['aux1']\n",
            "Significance of P-Values = [False]\n",
            "Intercept = 11.125476234278956\n",
            "B = [0.37638407]\n",
            "RSS = 15.789890117200741\n",
            "RegSS = 1.791483100591936\n",
            "TSS = 17.581373217792677\n",
            "p_values = [0.05873352]\n",
            "t_statistic = [2.010989024664906]\n",
            "\n",
            "R^2 = 0.4049514090035227\n",
            "Input columns: ['aux2']\n",
            "Significance of P-Values = [False]\n",
            "Intercept = 11.053154274733277\n",
            "B = [0.52801492]\n",
            "RSS = 10.461771361030735\n",
            "RegSS = 7.119601856761943\n",
            "TSS = 17.581373217792677\n",
            "p_values = [0.06174165]\n",
            "t_statistic = [1.985263369297027]\n"
          ]
        }
      ]
    },
    {
      "cell_type": "markdown",
      "source": [
        "The R^2 values for all three columns and [theta, aux2] are almost identical at approximately .88. These are the highest values among the combinations of input columns. So, [theta, aux2] works better."
      ],
      "metadata": {
        "id": "bFaEKEYfe4aE"
      }
    },
    {
      "cell_type": "markdown",
      "metadata": {
        "id": "AUV3JHcldBQD"
      },
      "source": [
        "## 3. Propose a setting for *theta*\n",
        "\n",
        "Now that you have a model built, you should be able to plot estimated *time_spent* vs. *theta* over a reasonable range of *theta*.  By inspecting that plot -- and knowning that the company wants to maximize the time users spend on the app -- which value of *theta* would you propose the engineers use? Explain how the data and your model support your decision.\n",
        "\n",
        "The engineer's have capacity to take another set of measurements. Which settings of *theta* do you suggest they measure? Why?\n"
      ]
    },
    {
      "cell_type": "code",
      "source": [
        "X1 = df[['theta']]\n",
        "y = df.iloc[:,-1]\n",
        "reg1 = LinearRegression().fit(X1, y)\n",
        "y_hat = reg1.predict(X1)"
      ],
      "metadata": {
        "id": "TgArDJ6KC9xa"
      },
      "execution_count": null,
      "outputs": []
    },
    {
      "cell_type": "code",
      "source": [
        "plt.figure(figsize=(12,7))\n",
        "plt.xlabel('Theta')\n",
        "plt.ylabel('Time Spent in Hours')\n",
        "plt.scatter(X1, y)\n",
        "plt.plot(X1, y_hat)\n",
        "plt.axhline(df['time_spent'].mean(), color='r')"
      ],
      "metadata": {
        "colab": {
          "base_uri": "https://localhost:8080/",
          "height": 460
        },
        "id": "HjUdsnidDJNt",
        "outputId": "0593737d-0380-4a2f-afcc-6eb403744b20"
      },
      "execution_count": null,
      "outputs": [
        {
          "output_type": "execute_result",
          "data": {
            "text/plain": [
              "<matplotlib.lines.Line2D at 0x7f948f2c41c0>"
            ]
          },
          "metadata": {},
          "execution_count": 55
        },
        {
          "output_type": "display_data",
          "data": {
            "text/plain": [
              "<Figure size 864x504 with 1 Axes>"
            ],
            "image/png": "[encoded data removed]"
          },
          "metadata": {
            "needs_background": "light"
          }
        }
      ]
    },
    {
      "cell_type": "markdown",
      "source": [
        "From the graph we can say there is a postive correrlation between theta and time spent so, there will more time spent hours if the the theta is high. if we take around 0.6 as the minimum thereshold then all points are higher than average time spent."
      ],
      "metadata": {
        "id": "VQ-Pbr0dWkpd"
      }
    },
    {
      "cell_type": "markdown",
      "metadata": {
        "id": "jeEWEAvPdBQE"
      },
      "source": [
        "## 4. Experiment or observation?\n",
        "\n",
        "Is this data set experimental or observational? Explain clearly. Consider how the effect of *theta* on *time_spent* differs from the effect of *aux1* or *aux2*."
      ]
    },
    {
      "cell_type": "markdown",
      "source": [
        "This data set is experimental. Because the engineers manipulated the parameter theta in the recommendation engine to measure the amount of time users spent on the app. By varying the value of theta, they were able to collect data on how the change affected user behavior. This manipulation of the recommendation engine's parameter can be considered an experimental."
      ],
      "metadata": {
        "id": "_r0hrnVQYr25"
      }
    },
    {
      "cell_type": "code",
      "source": [
        "plt.figure(figsize=(7,4))\n",
        "plt.xlabel('Theta')\n",
        "plt.ylabel('Time Spent in Hours')\n",
        "plt.scatter(X1, y)\n",
        "plt.plot(X1, y_hat)\n",
        "\n",
        "X2 = df[['aux1']]\n",
        "reg2 = LinearRegression().fit(X2, y)\n",
        "y_hat2 = reg2.predict(X2)\n",
        "plt.figure(figsize=(7,4))\n",
        "plt.xlabel('Aux1')\n",
        "plt.ylabel('Time Spent in Hours')\n",
        "plt.scatter(X2, y)\n",
        "plt.plot(X2, y_hat2)\n",
        "\n",
        "X3 = df[['aux2']]\n",
        "reg3 = LinearRegression().fit(X3, y)\n",
        "y_hat3 = reg3.predict(X3)\n",
        "plt.figure(figsize=(7,4))\n",
        "plt.xlabel('Aux2')\n",
        "plt.ylabel('Time Spent in Hours')\n",
        "plt.scatter(X3, y)\n",
        "plt.plot(X3, y_hat3)"
      ],
      "metadata": {
        "colab": {
          "base_uri": "https://localhost:8080/",
          "height": 829
        },
        "id": "nbh70s4EZmH7",
        "outputId": "0fea4cd6-8bd7-42f1-d933-1fd132af91bd"
      },
      "execution_count": null,
      "outputs": [
        {
          "output_type": "execute_result",
          "data": {
            "text/plain": [
              "[<matplotlib.lines.Line2D at 0x7f948f1a4c40>]"
            ]
          },
          "metadata": {},
          "execution_count": 51
        },
        {
          "output_type": "display_data",
          "data": {
            "text/plain": [
              "<Figure size 504x288 with 1 Axes>"
            ],
            "image/png": "[encoded data removed]"
          },
          "metadata": {
            "needs_background": "light"
          }
        },
        {
          "output_type": "display_data",
          "data": {
            "text/plain": [
              "<Figure size 504x288 with 1 Axes>"
            ],
            "image/png": "[encoded data removed]"
          },
          "metadata": {
            "needs_background": "light"
          }
        },
        {
          "output_type": "display_data",
          "data": {
            "text/plain": [
              "<Figure size 504x288 with 1 Axes>"
            ],
            "image/png": "[encoded data removed]"
          },
          "metadata": {
            "needs_background": "light"
          }
        }
      ]
    },
    {
      "cell_type": "markdown",
      "source": [
        "The statistical analysis indicates that Theta is consistently significant based on the p-values, and there is a positive linear relationship between Theta and the amount of time users spend on the app. By examining the graphs above, it becomes apparent that Theta and Aux2 have a higher positive correlation than Aux1."
      ],
      "metadata": {
        "id": "AjpgdrtaaElH"
      }
    },
    {
      "cell_type": "code",
      "execution_count": null,
      "metadata": {
        "id": "fV34k-eLdBQF"
      },
      "outputs": [],
      "source": []
    }
  ],
  "metadata": {
    "kernelspec": {
      "display_name": "Python 3",
      "language": "python",
      "name": "python3"
    },
    "language_info": {
      "codemirror_mode": {
        "name": "ipython",
        "version": 3
      },
      "file_extension": ".py",
      "mimetype": "text/x-python",
      "name": "python",
      "nbconvert_exporter": "python",
      "pygments_lexer": "ipython3",
      "version": "3.6.3"
    },
    "colab": {
      "provenance": []
    }
  },
  "nbformat": 4,
  "nbformat_minor": 0
}